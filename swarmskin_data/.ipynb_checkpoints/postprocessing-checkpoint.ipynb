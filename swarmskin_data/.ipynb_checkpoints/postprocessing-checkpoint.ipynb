{
 "cells": [
  {
   "cell_type": "code",
   "execution_count": 1,
   "metadata": {},
   "outputs": [],
   "source": [
    "import matplotlib.pyplot as plt\n",
    "import pandas as pd\n",
    "import os"
   ]
  },
  {
   "cell_type": "code",
   "execution_count": 8,
   "metadata": {},
   "outputs": [
    {
     "data": {
      "text/plain": [
       "'/home/ruslan/Desktop/swarmskin_data/'"
      ]
     },
     "execution_count": 8,
     "metadata": {},
     "output_type": "execute_result"
    }
   ],
   "source": [
    "root_path = ! pwd\n",
    "root_path = root_path[0] + '/'\n",
    "root_path"
   ]
  },
  {
   "cell_type": "code",
   "execution_count": 3,
   "metadata": {},
   "outputs": [
    {
     "name": "stdout",
     "output_type": "stream",
     "text": [
      "1_drone  4_drones  postprocessing.ipynb\r\n"
     ]
    }
   ],
   "source": [
    "! ls"
   ]
  },
  {
   "cell_type": "code",
   "execution_count": 5,
   "metadata": {},
   "outputs": [
    {
     "name": "stdout",
     "output_type": "stream",
     "text": [
      "tactile  visual  visual_tactile\r\n"
     ]
    }
   ],
   "source": [
    "! ls 1_drone/"
   ]
  },
  {
   "cell_type": "markdown",
   "metadata": {},
   "source": [
    "# One Drone experiment "
   ]
  },
  {
   "cell_type": "markdown",
   "metadata": {},
   "source": [
    "### Tactile feedback"
   ]
  },
  {
   "cell_type": "code",
   "execution_count": 18,
   "metadata": {},
   "outputs": [
    {
     "name": "stdout",
     "output_type": "stream",
     "text": [
      "lp1_2019-02-27-15-59-27  lp2_2019-02-28-10-13-56  lp3_2019-03-01-13-19-18\r\n",
      "lp1_2019-02-27-16-04-24  lp2_2019-03-01-12-41-02  lp3_2019-03-01-13-21-45\r\n",
      "lp1_2019-02-28-10-09-57  lp2_2019-03-01-12-44-04  lp4_2019-02-27-16-01-00\r\n",
      "lp1_2019-02-28-10-16-57  lp2_2019-03-01-13-20-28  lp4_2019-02-27-16-03-59\r\n",
      "lp1_2019-03-01-12-39-19  lp2_2019-03-01-13-22-43  lp4_2019-02-28-10-11-11\r\n",
      "lp1_2019-03-01-12-46-19  lp3_2019-02-27-16-00-07  lp4_2019-02-28-10-16-31\r\n",
      "lp1_2019-03-01-13-18-40  lp3_2019-02-27-16-02-06  lp4_2019-03-01-12-42-28\r\n",
      "lp1_2019-03-01-13-23-59  lp3_2019-02-28-10-10-23  lp4_2019-03-01-12-44-45\r\n",
      "lp2_2019-02-27-16-00-34  lp3_2019-02-28-10-13-05  lp4_2019-03-01-13-21-02\r\n",
      "lp2_2019-02-27-16-03-26  lp3_2019-03-01-12-40-08  lp4_2019-03-01-13-23-24\r\n",
      "lp2_2019-02-28-10-10-47  lp3_2019-03-01-12-43-13\r\n"
     ]
    }
   ],
   "source": [
    "! ls 1_drone/tactile/"
   ]
  },
  {
   "cell_type": "code",
   "execution_count": 9,
   "metadata": {},
   "outputs": [],
   "source": [
    "path = root_path + '1_drone/tactile/'"
   ]
  },
  {
   "cell_type": "code",
   "execution_count": 38,
   "metadata": {},
   "outputs": [
    {
     "name": "stdout",
     "output_type": "stream",
     "text": [
      "lp1_2019-02-27-15-59-27  lp2_2019-02-28-10-13-56  lp3_2019-03-01-13-19-18\r\n",
      "lp1_2019-02-27-16-04-24  lp2_2019-03-01-12-41-02  lp3_2019-03-01-13-21-45\r\n",
      "lp1_2019-02-28-10-09-57  lp2_2019-03-01-12-44-04  lp4_2019-02-27-16-01-00\r\n",
      "lp1_2019-02-28-10-16-57  lp2_2019-03-01-13-20-28  lp4_2019-02-27-16-03-59\r\n",
      "lp1_2019-03-01-12-39-19  lp2_2019-03-01-13-22-43  lp4_2019-02-28-10-11-11\r\n",
      "lp1_2019-03-01-12-46-19  lp3_2019-02-27-16-00-07  lp4_2019-02-28-10-16-31\r\n",
      "lp1_2019-03-01-13-18-40  lp3_2019-02-27-16-02-06  lp4_2019-03-01-12-42-28\r\n",
      "lp1_2019-03-01-13-23-59  lp3_2019-02-28-10-10-23  lp4_2019-03-01-12-44-45\r\n",
      "lp2_2019-02-27-16-00-34  lp3_2019-02-28-10-13-05  lp4_2019-03-01-13-21-02\r\n",
      "lp2_2019-02-27-16-03-26  lp3_2019-03-01-12-40-08  lp4_2019-03-01-13-23-24\r\n",
      "lp2_2019-02-28-10-10-47  lp3_2019-03-01-12-43-13\r\n"
     ]
    }
   ],
   "source": [
    "! ls /home/ruslan/Desktop/swarmskin_data/1_drone/tactile/"
   ]
  },
  {
   "cell_type": "code",
   "execution_count": 30,
   "metadata": {},
   "outputs": [
    {
     "name": "stdout",
     "output_type": "stream",
     "text": [
      "_slash_vicon_slash_lp3_slash_lp3.csv\n",
      "_slash_vicon_slash_lp1_slash_lp1.csv\n",
      "_slash_vicon_slash_lp2_slash_lp2.csv\n",
      "lp2_2019-02-28-10-10-47.bag\n",
      "_slash_vicon_slash_cf3_slash_cf3.csv\n",
      "_slash_vicon_slash_lp4_slash_lp4.csv\n"
     ]
    }
   ],
   "source": [
    "for filename in os.listdir('/home/ruslan/Desktop/swarmskin_data/1_drone/tactile/lp2_2019-02-28-10-10-47/'):\n",
    "    print filename"
   ]
  },
  {
   "cell_type": "code",
   "execution_count": 35,
   "metadata": {},
   "outputs": [
    {
     "name": "stdout",
     "output_type": "stream",
     "text": [
      "_slash_vicon_slash_lp1_slash_lp1.csv\n",
      "_slash_vicon_slash_lp1_slash_lp1.csv\n",
      "_slash_vicon_slash_lp1_slash_lp1.csv\n",
      "_slash_vicon_slash_lp1_slash_lp1.csv\n",
      "_slash_vicon_slash_lp1_slash_lp1.csv\n",
      "_slash_vicon_slash_lp1_slash_lp1.csv\n",
      "_slash_vicon_slash_lp1_slash_lp1.csv\n",
      "_slash_vicon_slash_lp1_slash_lp1.csv\n"
     ]
    }
   ],
   "source": [
    "for folder_name in os.listdir(path):\n",
    "#     print path+folder_name\n",
    "    for filename in os.listdir(path+trial_folder):\n",
    "        if 'lp1' in filename and 'lp1' in folder_name:\n",
    "            print filename"
   ]
  },
  {
   "cell_type": "code",
   "execution_count": 41,
   "metadata": {},
   "outputs": [
    {
     "name": "stdout",
     "output_type": "stream",
     "text": [
      "lp2_2019-02-28-10-10-47.bag\t      _slash_vicon_slash_lp2_slash_lp2.csv\r\n",
      "_slash_vicon_slash_cf3_slash_cf3.csv  _slash_vicon_slash_lp3_slash_lp3.csv\r\n",
      "_slash_vicon_slash_lp1_slash_lp1.csv  _slash_vicon_slash_lp4_slash_lp4.csv\r\n"
     ]
    }
   ],
   "source": [
    "! ls /home/ruslan/Desktop/swarmskin_data/1_drone/tactile/lp2_2019-02-28-10-10-47/"
   ]
  },
  {
   "cell_type": "code",
   "execution_count": 39,
   "metadata": {},
   "outputs": [],
   "source": [
    "def plot_cf_lp(PATH, cf_name):\n",
    "    cf  = pd.read_csv(PATH + '_slash_vicon_slash_'+cf_name+'_slash_cf1.csv')\n",
    "    lp1 = pd.read_csv(PATH + '_slash_vicon_slash_lp1_slash_lp1.csv')\n",
    "    lp2 = pd.read_csv(PATH + '_slash_vicon_slash_lp2_slash_lp2.csv')\n",
    "    lp3 = pd.read_csv(PATH + '_slash_vicon_slash_lp3_slash_lp3.csv')\n",
    "    lp4 = pd.read_csv(PATH + '_slash_vicon_slash_lp4_slash_lp4.csv')\n",
    "    \n",
    "    plt.figure()\n",
    "    plt.plot(lp1.x, lp1.y)\n",
    "    plt.plot(lp2.x, lp2.y)\n",
    "    plt.plot(lp3.x, lp3.y)\n",
    "    plt.plot(lp4.x, lp4.y)\n",
    "    plt.plot(cf.x, cf.y, 'ro')"
   ]
  },
  {
   "cell_type": "code",
   "execution_count": 30,
   "metadata": {},
   "outputs": [
    {
     "data": {
      "text/plain": [
       "[<matplotlib.lines.Line2D at 0x7fe0e1202190>]"
      ]
     },
     "execution_count": 30,
     "metadata": {},
     "output_type": "execute_result"
    },
    {
     "data": {
      "image/png": "[encoded data removed]",
      "text/plain": [
       "<Figure size 432x288 with 1 Axes>"
      ]
     },
     "metadata": {
      "needs_background": "light"
     },
     "output_type": "display_data"
    }
   ],
   "source": [
    "cf  = pd.read_csv(PATH + 'lp1_2019-02-27-15-59-27/_slash_vicon_slash_cf1_slash_cf1.csv')\n",
    "lp1 = pd.read_csv(PATH + 'lp1_2019-02-27-15-59-27/_slash_vicon_slash_lp1_slash_lp1.csv')\n",
    "lp2 = pd.read_csv(PATH + 'lp1_2019-02-27-15-59-27/_slash_vicon_slash_lp2_slash_lp2.csv')\n",
    "lp3 = pd.read_csv(PATH + 'lp1_2019-02-27-15-59-27/_slash_vicon_slash_lp3_slash_lp3.csv')\n",
    "lp4 = pd.read_csv(PATH + 'lp1_2019-02-27-15-59-27/_slash_vicon_slash_lp4_slash_lp4.csv')\n",
    "plt.plot(lp1.x, lp1.y)\n",
    "plt.plot(lp2.x, lp2.y)\n",
    "plt.plot(lp3.x, lp3.y)\n",
    "plt.plot(lp4.x, lp4.y)\n",
    "plt.plot(cf.x, cf.y, 'ro')"
   ]
  }
 ],
 "metadata": {
  "kernelspec": {
   "display_name": "Python 2",
   "language": "python",
   "name": "python2"
  },
  "language_info": {
   "codemirror_mode": {
    "name": "ipython",
    "version": 2
   },
   "file_extension": ".py",
   "mimetype": "text/x-python",
   "name": "python",
   "nbconvert_exporter": "python",
   "pygments_lexer": "ipython2",
   "version": "2.7.12"
  }
 },
 "nbformat": 4,
 "nbformat_minor": 2
}
