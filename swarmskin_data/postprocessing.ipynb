{
 "cells": [
  {
   "cell_type": "code",
   "execution_count": 128,
   "metadata": {},
   "outputs": [],
   "source": [
    "import matplotlib.pyplot as plt\n",
    "import pandas as pd\n",
    "import os\n",
    "import numpy as np\n",
    "from numpy.linalg import norm"
   ]
  },
  {
   "cell_type": "code",
   "execution_count": 2,
   "metadata": {},
   "outputs": [
    {
     "data": {
      "text/plain": [
       "'/home/ruslan/Desktop/Swarm/Swarmskin/swarmskin_data/'"
      ]
     },
     "execution_count": 2,
     "metadata": {},
     "output_type": "execute_result"
    }
   ],
   "source": [
    "root_path = ! pwd\n",
    "root_path = root_path[0] + '/'\n",
    "root_path"
   ]
  },
  {
   "cell_type": "code",
   "execution_count": 188,
   "metadata": {},
   "outputs": [],
   "source": [
    "cf_names = ['cf1', 'cf2', 'cf3', 'cf4']\n",
    "lp_names = ['lp1', 'lp2', 'lp3', 'lp4']"
   ]
  },
  {
   "cell_type": "markdown",
   "metadata": {},
   "source": [
    "# One Drone experiment "
   ]
  },
  {
   "cell_type": "code",
   "execution_count": 67,
   "metadata": {},
   "outputs": [],
   "source": [
    "def err_after_land(PATH, cf_name, vizualize=0):\n",
    "    cf  = pd.read_csv(PATH + '_slash_vicon_slash_'+cf_name+'_slash_'+cf_name+'.csv')\n",
    "    lp1 = pd.read_csv(PATH + '_slash_vicon_slash_lp1_slash_lp1.csv')\n",
    "    lp2 = pd.read_csv(PATH + '_slash_vicon_slash_lp2_slash_lp2.csv')\n",
    "    lp3 = pd.read_csv(PATH + '_slash_vicon_slash_lp3_slash_lp3.csv')\n",
    "    lp4 = pd.read_csv(PATH + '_slash_vicon_slash_lp4_slash_lp4.csv')\n",
    "    \n",
    "    \n",
    "    if 'lp1' in PATH: lp = lp1\n",
    "    if 'lp2' in PATH: lp = lp2\n",
    "    if 'lp3' in PATH: lp = lp3\n",
    "    if 'lp4' in PATH: lp = lp4\n",
    "    \n",
    "    land_point = np.array([cf.x[len(cf.x)-1], cf.y[len(cf.y)-1]])\n",
    "    lp_last    = np.array([lp.x[len(cf.x)-1], lp.y[len(cf.y)-1]])\n",
    "    err = np.linalg.norm(land_point - lp_last)\n",
    "    \n",
    "    if vizualize:\n",
    "        plt.figure()\n",
    "        plt.plot(cf.x, cf.y, label='drone')\n",
    "        plt.plot(lp.x, lp.y, label='lp')\n",
    "        plt.plot( cf.x[len(cf.x)-1], cf.y[len(cf.y)-1], 'ro', markersize=10, label='landing point')\n",
    "        plt.plot(lp_last[0], lp_last[1], '*')\n",
    "        plt.legend()\n",
    "    return err"
   ]
  },
  {
   "cell_type": "code",
   "execution_count": 68,
   "metadata": {},
   "outputs": [],
   "source": [
    "def metrics(path):\n",
    "    land_errors = []\n",
    "    for cf_name in cf_names:\n",
    "        for folder_name in os.listdir(path):\n",
    "            try:\n",
    "                land_errors.append( err_after_land(path+folder_name+'/', cf_name) )\n",
    "            except:\n",
    "                pass\n",
    "    return np.mean(land_errors), np.std(land_errors), np.max(land_errors)"
   ]
  },
  {
   "cell_type": "markdown",
   "metadata": {},
   "source": [
    "## Errors after landing"
   ]
  },
  {
   "cell_type": "markdown",
   "metadata": {},
   "source": [
    "### Tactile feedback"
   ]
  },
  {
   "cell_type": "code",
   "execution_count": 69,
   "metadata": {},
   "outputs": [
    {
     "data": {
      "text/plain": [
       "(0.02899167451805656, 0.014098639837329488, 0.05705442775990614)"
      ]
     },
     "execution_count": 69,
     "metadata": {},
     "output_type": "execute_result"
    }
   ],
   "source": [
    "path = root_path + '1_drone/tactile/'\n",
    "metrics(path)"
   ]
  },
  {
   "cell_type": "markdown",
   "metadata": {},
   "source": [
    "### Visual feedback"
   ]
  },
  {
   "cell_type": "code",
   "execution_count": 70,
   "metadata": {},
   "outputs": [
    {
     "data": {
      "text/plain": [
       "(0.015972032782265257, 0.009801790145905598, 0.046356056637016134)"
      ]
     },
     "execution_count": 70,
     "metadata": {},
     "output_type": "execute_result"
    }
   ],
   "source": [
    "path = root_path + '1_drone/visual/'\n",
    "metrics(path)"
   ]
  },
  {
   "cell_type": "markdown",
   "metadata": {},
   "source": [
    "### Visual + Tactile feedback"
   ]
  },
  {
   "cell_type": "code",
   "execution_count": 71,
   "metadata": {},
   "outputs": [
    {
     "data": {
      "text/plain": [
       "(0.011806312540366437, 0.006911032914843055, 0.033802840498465346)"
      ]
     },
     "execution_count": 71,
     "metadata": {},
     "output_type": "execute_result"
    }
   ],
   "source": [
    "path = root_path + '1_drone/visual_tactile/'\n",
    "metrics(path)"
   ]
  },
  {
   "cell_type": "markdown",
   "metadata": {},
   "source": [
    "## Errors during landing"
   ]
  },
  {
   "cell_type": "code",
   "execution_count": 173,
   "metadata": {},
   "outputs": [],
   "source": [
    "def err_during_land(PATH, cf_file, vizualize=0):\n",
    "    cf  = pd.read_csv(PATH + '_slash_vicon_slash_'+cf_name+'_slash_'+cf_name+'.csv')\n",
    "    lp1 = pd.read_csv(PATH + '_slash_vicon_slash_lp1_slash_lp1.csv')\n",
    "    lp2 = pd.read_csv(PATH + '_slash_vicon_slash_lp2_slash_lp2.csv')\n",
    "    lp3 = pd.read_csv(PATH + '_slash_vicon_slash_lp3_slash_lp3.csv')\n",
    "    lp4 = pd.read_csv(PATH + '_slash_vicon_slash_lp4_slash_lp4.csv')\n",
    "    \n",
    "    if 'lp1' in PATH: lp = lp1\n",
    "    if 'lp2' in PATH: lp = lp2\n",
    "    if 'lp3' in PATH: lp = lp3\n",
    "    if 'lp4' in PATH: lp = lp4\n",
    "        \n",
    "    length = min(len(lp.x), len(cf.x))\n",
    "    cf.x = cf.x[:length]; cf.y = cf.y[:length]\n",
    "    lp.x = lp.x[:length]; lp.y = lp.y[:length]\n",
    "    \n",
    "    err = ( norm(np.abs(lp.x - cf.x)) + norm(np.abs(lp.y - cf.y)) ) / length\n",
    "    \n",
    "    if vizualize:\n",
    "        plt.figure()\n",
    "        plt.plot(cf.x, cf.y, label='drone')\n",
    "        plt.plot(lp.x, lp.y, label='lp')\n",
    "        plt.legend()\n",
    "        \n",
    "    return err"
   ]
  },
  {
   "cell_type": "markdown",
   "metadata": {},
   "source": [
    "### Visual feedback"
   ]
  },
  {
   "cell_type": "code",
   "execution_count": 174,
   "metadata": {},
   "outputs": [
    {
     "name": "stdout",
     "output_type": "stream",
     "text": [
      "0.0015859935272273962 0.0006345727296042755 0.003377259644604777\n"
     ]
    }
   ],
   "source": [
    "path = root_path + '1_drone/visual/'\n",
    "follow_errs = []\n",
    "for cf_name in cf_names:\n",
    "    for folder_name in os.listdir(path):\n",
    "        try:\n",
    "            err = err_during_land(path+folder_name+'/', cf_name, vizualize=0)\n",
    "            if not np.isnan(err): follow_errs.append( err )\n",
    "        except:\n",
    "            # print 'no crazyflie data in folder'\n",
    "            pass\n",
    "print np.mean(follow_errs), np.std(follow_errs), np.max(follow_errs)"
   ]
  },
  {
   "cell_type": "markdown",
   "metadata": {},
   "source": [
    "### Tactile feedback"
   ]
  },
  {
   "cell_type": "code",
   "execution_count": 175,
   "metadata": {},
   "outputs": [
    {
     "name": "stdout",
     "output_type": "stream",
     "text": [
      "0.0018134499386696513 0.0006301506971901885 0.0028973881939520535\n"
     ]
    }
   ],
   "source": [
    "path = root_path + '1_drone/tactile/'\n",
    "follow_errs = []\n",
    "for cf_name in cf_names:\n",
    "    for folder_name in os.listdir(path):\n",
    "        try:\n",
    "            err = err_during_land(path+folder_name+'/', cf_name, vizualize=0)\n",
    "            if not np.isnan(err): follow_errs.append( err )\n",
    "        except:\n",
    "            # print 'no crazyflie data in folder'\n",
    "            pass\n",
    "print np.mean(follow_errs), np.std(follow_errs), np.max(follow_errs)"
   ]
  },
  {
   "cell_type": "markdown",
   "metadata": {},
   "source": [
    "### Visual + Tactile feedback"
   ]
  },
  {
   "cell_type": "code",
   "execution_count": 176,
   "metadata": {},
   "outputs": [
    {
     "name": "stdout",
     "output_type": "stream",
     "text": [
      "0.001216622752533313 0.0004723757283859209 0.002522501927974438\n"
     ]
    }
   ],
   "source": [
    "path = root_path + '1_drone/visual_tactile/'\n",
    "follow_errs = []\n",
    "for cf_name in cf_names:\n",
    "    for folder_name in os.listdir(path):\n",
    "        try:\n",
    "            err = err_during_land(path+folder_name+'/', cf_name, vizualize=0)\n",
    "            if not np.isnan(err): follow_errs.append( err )\n",
    "        except:\n",
    "            # print 'no crazyflie data in folder'\n",
    "            pass\n",
    "print np.mean(follow_errs), np.std(follow_errs), np.max(follow_errs)"
   ]
  },
  {
   "cell_type": "markdown",
   "metadata": {},
   "source": [
    "# Four Drones experiment"
   ]
  },
  {
   "cell_type": "code",
   "execution_count": 266,
   "metadata": {},
   "outputs": [],
   "source": [
    "def err_after_land(PATH, vizualize=0):\n",
    "    cf  = pd.read_csv(PATH + '_slash_vicon_slash_'+cf_name+'_slash_'+cf_name+'.csv')\n",
    "    lp  = pd.read_csv(PATH + '_slash_vicon_slash_'+lp_name+'_slash_'+lp_name+'.csv')\n",
    "    \n",
    "    land_point = np.array([cf.x[len(cf.x)-1], cf.y[len(cf.y)-1]])\n",
    "    lp_last    = np.array([lp.x[len(lp.x)-1], lp.y[len(lp.y)-1]])\n",
    "    err = np.linalg.norm(land_point - lp_last)\n",
    "    \n",
    "    if vizualize:\n",
    "        plt.figure()\n",
    "        plt.plot(cf.x, cf.y, label='drone')\n",
    "        plt.plot(lp.x, lp.y, label='lp')\n",
    "        plt.plot( cf.x[len(cf.x)-1], cf.y[len(cf.y)-1], 'ro', markersize=10, label='landing point')\n",
    "        plt.plot(lp_last[0], lp_last[1], '*')\n",
    "        plt.title(cf_name+' '+lp_name)\n",
    "        plt.legend()\n",
    "    return err"
   ]
  },
  {
   "cell_type": "code",
   "execution_count": 296,
   "metadata": {},
   "outputs": [],
   "source": [
    "def err_during_land(PATH, vizualize=0):\n",
    "    cf  = pd.read_csv(PATH + '_slash_vicon_slash_'+cf_name+'_slash_'+cf_name+'.csv')\n",
    "    lp  = pd.read_csv(PATH + '_slash_vicon_slash_'+lp_name+'_slash_'+lp_name+'.csv')\n",
    "\n",
    "    length = min(len(lp.x), len(cf.x))\n",
    "    err = ( norm(np.abs(lp.x[:length] - cf.x[:length])) + norm(np.abs(lp.y[:length] - cf.y[:length])) ) / length\n",
    "    \n",
    "    if vizualize:\n",
    "        plt.figure()\n",
    "        plt.plot(cf.x, cf.y, label='drone')\n",
    "        plt.plot(lp.x, lp.y, label='lp')\n",
    "        plt.legend()\n",
    "    return err"
   ]
  },
  {
   "cell_type": "markdown",
   "metadata": {},
   "source": [
    "## Error after landing"
   ]
  },
  {
   "cell_type": "markdown",
   "metadata": {},
   "source": [
    "### Visual feedback"
   ]
  },
  {
   "cell_type": "code",
   "execution_count": 252,
   "metadata": {},
   "outputs": [
    {
     "name": "stdout",
     "output_type": "stream",
     "text": [
      "0.022569023689999915 0.013402069252009128 0.055591884128725545\n"
     ]
    }
   ],
   "source": [
    "path = root_path + '4_drones/visual/'\n",
    "land_errors = []\n",
    "for folder_name in os.listdir(path):\n",
    "    cf_name = folder_name[:3]\n",
    "    lp_name = folder_name[4:7]\n",
    "    land_errors.append( err_after_land(path+folder_name+'/', vizualize=0) )\n",
    "print np.mean(land_errors), np.std(land_errors), np.max(land_errors)"
   ]
  },
  {
   "cell_type": "markdown",
   "metadata": {},
   "source": [
    "### Tactile feedback"
   ]
  },
  {
   "cell_type": "code",
   "execution_count": 253,
   "metadata": {},
   "outputs": [
    {
     "name": "stdout",
     "output_type": "stream",
     "text": [
      "0.03720978594082414 0.024628485060907854 0.10801213053203305\n"
     ]
    }
   ],
   "source": [
    "path = root_path + '4_drones/tactile/'\n",
    "land_errors = []\n",
    "for folder_name in os.listdir(path):\n",
    "    cf_name = folder_name[:3]\n",
    "    lp_name = folder_name[4:7]\n",
    "    land_errors.append( err_after_land(path+folder_name+'/', vizualize=0) )\n",
    "print np.mean(land_errors), np.std(land_errors), np.max(land_errors)"
   ]
  },
  {
   "cell_type": "markdown",
   "metadata": {},
   "source": [
    "### Visual + Tactile feedback"
   ]
  },
  {
   "cell_type": "code",
   "execution_count": 280,
   "metadata": {},
   "outputs": [
    {
     "name": "stdout",
     "output_type": "stream",
     "text": [
      "0.023114115008140215 0.01888683721056818 0.06697253172434407\n"
     ]
    }
   ],
   "source": [
    "path = root_path + '4_drones/visual_tactile/'\n",
    "land_errors = []\n",
    "for folder_name in os.listdir(path):\n",
    "    cf_name = folder_name[:3]\n",
    "    lp_name = folder_name[4:7]\n",
    "    land_errors.append( err_after_land(path+folder_name+'/', vizualize=0) )\n",
    "print np.mean(land_errors), np.std(land_errors), np.max(land_errors)"
   ]
  },
  {
   "cell_type": "markdown",
   "metadata": {},
   "source": [
    "## Error during landing"
   ]
  },
  {
   "cell_type": "markdown",
   "metadata": {},
   "source": [
    "### Visual feedback"
   ]
  },
  {
   "cell_type": "code",
   "execution_count": 300,
   "metadata": {},
   "outputs": [
    {
     "name": "stdout",
     "output_type": "stream",
     "text": [
      "0.0017758863078846145 0.0006837622178384008 0.0035156496822115273\n"
     ]
    }
   ],
   "source": [
    "path = root_path + '4_drones/visual/'\n",
    "\n",
    "during_land_errors = []\n",
    "for folder_name in os.listdir(path):\n",
    "    cf_name = folder_name[:3]\n",
    "    lp_name = folder_name[4:7]\n",
    "    during_land_errors.append( err_during_land(path+folder_name+'/', vizualize=0) )\n",
    "print np.mean(during_land_errors), np.std(during_land_errors), np.max(during_land_errors)"
   ]
  },
  {
   "cell_type": "markdown",
   "metadata": {},
   "source": [
    "### Tactile feedback"
   ]
  },
  {
   "cell_type": "code",
   "execution_count": 301,
   "metadata": {},
   "outputs": [
    {
     "name": "stdout",
     "output_type": "stream",
     "text": [
      "0.002887335655639345 0.0041610961585841705 0.0204478502923798\n"
     ]
    }
   ],
   "source": [
    "path = root_path + '4_drones/tactile/'\n",
    "\n",
    "during_land_errors = []\n",
    "for folder_name in os.listdir(path):\n",
    "    cf_name = folder_name[:3]\n",
    "    lp_name = folder_name[4:7]\n",
    "    during_land_errors.append( err_during_land(path+folder_name+'/', vizualize=0) )\n",
    "print np.mean(during_land_errors), np.std(during_land_errors), np.max(during_land_errors)"
   ]
  },
  {
   "cell_type": "markdown",
   "metadata": {},
   "source": [
    "### Visual + Tactile feedback"
   ]
  },
  {
   "cell_type": "code",
   "execution_count": 302,
   "metadata": {},
   "outputs": [
    {
     "name": "stdout",
     "output_type": "stream",
     "text": [
      "0.0019200068289180912 0.0011113051022937144 0.004403017998020159\n"
     ]
    }
   ],
   "source": [
    "path = root_path + '4_drones/visual_tactile/'\n",
    "\n",
    "during_land_errors = []\n",
    "for folder_name in os.listdir(path):\n",
    "    cf_name = folder_name[:3]\n",
    "    lp_name = folder_name[4:7]\n",
    "    during_land_errors.append( err_during_land(path+folder_name+'/', vizualize=0) )\n",
    "print np.mean(during_land_errors), np.std(during_land_errors), np.max(during_land_errors)"
   ]
  }
 ],
 "metadata": {
  "kernelspec": {
   "display_name": "Python 2",
   "language": "python",
   "name": "python2"
  },
  "language_info": {
   "codemirror_mode": {
    "name": "ipython",
    "version": 2
   },
   "file_extension": ".py",
   "mimetype": "text/x-python",
   "name": "python",
   "nbconvert_exporter": "python",
   "pygments_lexer": "ipython2",
   "version": "2.7.12"
  }
 },
 "nbformat": 4,
 "nbformat_minor": 2
}
