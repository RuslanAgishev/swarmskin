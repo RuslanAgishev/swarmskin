{
 "cells": [
  {
   "cell_type": "code",
   "execution_count": 322,
   "metadata": {},
   "outputs": [],
   "source": [
    "import matplotlib.pyplot as plt\n",
    "import pandas as pd\n",
    "import os\n",
    "import numpy as np\n",
    "from numpy.linalg import norm\n",
    "from math import *"
   ]
  },
  {
   "cell_type": "code",
   "execution_count": 2,
   "metadata": {},
   "outputs": [
    {
     "data": {
      "text/plain": [
       "'/home/ruslan/Desktop/Swarm/Swarmskin/swarmskin_data/'"
      ]
     },
     "execution_count": 2,
     "metadata": {},
     "output_type": "execute_result"
    }
   ],
   "source": [
    "root_path = ! pwd\n",
    "root_path = root_path[0] + '/'\n",
    "root_path"
   ]
  },
  {
   "cell_type": "code",
   "execution_count": 188,
   "metadata": {},
   "outputs": [],
   "source": [
    "cf_names = ['cf1', 'cf2', 'cf3', 'cf4']\n",
    "lp_names = ['lp1', 'lp2', 'lp3', 'lp4']"
   ]
  },
  {
   "cell_type": "markdown",
   "metadata": {},
   "source": [
    "# One Drone experiment "
   ]
  },
  {
   "cell_type": "code",
   "execution_count": 67,
   "metadata": {},
   "outputs": [],
   "source": [
    "def err_after_land(PATH, cf_name, vizualize=0):\n",
    "    cf  = pd.read_csv(PATH + '_slash_vicon_slash_'+cf_name+'_slash_'+cf_name+'.csv')\n",
    "    lp1 = pd.read_csv(PATH + '_slash_vicon_slash_lp1_slash_lp1.csv')\n",
    "    lp2 = pd.read_csv(PATH + '_slash_vicon_slash_lp2_slash_lp2.csv')\n",
    "    lp3 = pd.read_csv(PATH + '_slash_vicon_slash_lp3_slash_lp3.csv')\n",
    "    lp4 = pd.read_csv(PATH + '_slash_vicon_slash_lp4_slash_lp4.csv')\n",
    "    \n",
    "    \n",
    "    if 'lp1' in PATH: lp = lp1\n",
    "    if 'lp2' in PATH: lp = lp2\n",
    "    if 'lp3' in PATH: lp = lp3\n",
    "    if 'lp4' in PATH: lp = lp4\n",
    "    \n",
    "    land_point = np.array([cf.x[len(cf.x)-1], cf.y[len(cf.y)-1]])\n",
    "    lp_last    = np.array([lp.x[len(cf.x)-1], lp.y[len(cf.y)-1]])\n",
    "    err = np.linalg.norm(land_point - lp_last)\n",
    "    \n",
    "    if vizualize:\n",
    "        plt.figure()\n",
    "        plt.plot(cf.x, cf.y, label='drone')\n",
    "        plt.plot(lp.x, lp.y, label='lp')\n",
    "        plt.plot( cf.x[len(cf.x)-1], cf.y[len(cf.y)-1], 'ro', markersize=10, label='landing point')\n",
    "        plt.plot(lp_last[0], lp_last[1], '*')\n",
    "        plt.legend()\n",
    "    return err"
   ]
  },
  {
   "cell_type": "code",
   "execution_count": 68,
   "metadata": {},
   "outputs": [],
   "source": [
    "def metrics(path):\n",
    "    land_errors = []\n",
    "    for cf_name in cf_names:\n",
    "        for folder_name in os.listdir(path):\n",
    "            try:\n",
    "                land_errors.append( err_after_land(path+folder_name+'/', cf_name) )\n",
    "            except:\n",
    "                pass\n",
    "    return np.mean(land_errors), np.std(land_errors), np.max(land_errors)"
   ]
  },
  {
   "cell_type": "markdown",
   "metadata": {},
   "source": [
    "## Errors after landing"
   ]
  },
  {
   "cell_type": "markdown",
   "metadata": {},
   "source": [
    "### Tactile feedback"
   ]
  },
  {
   "cell_type": "code",
   "execution_count": 69,
   "metadata": {},
   "outputs": [
    {
     "data": {
      "text/plain": [
       "(0.02899167451805656, 0.014098639837329488, 0.05705442775990614)"
      ]
     },
     "execution_count": 69,
     "metadata": {},
     "output_type": "execute_result"
    }
   ],
   "source": [
    "path = root_path + '1_drone/tactile/'\n",
    "metrics(path)"
   ]
  },
  {
   "cell_type": "markdown",
   "metadata": {},
   "source": [
    "### Visual feedback"
   ]
  },
  {
   "cell_type": "code",
   "execution_count": 70,
   "metadata": {},
   "outputs": [
    {
     "data": {
      "text/plain": [
       "(0.015972032782265257, 0.009801790145905598, 0.046356056637016134)"
      ]
     },
     "execution_count": 70,
     "metadata": {},
     "output_type": "execute_result"
    }
   ],
   "source": [
    "path = root_path + '1_drone/visual/'\n",
    "metrics(path)"
   ]
  },
  {
   "cell_type": "markdown",
   "metadata": {},
   "source": [
    "### Visual + Tactile feedback"
   ]
  },
  {
   "cell_type": "code",
   "execution_count": 71,
   "metadata": {},
   "outputs": [
    {
     "data": {
      "text/plain": [
       "(0.011806312540366437, 0.006911032914843055, 0.033802840498465346)"
      ]
     },
     "execution_count": 71,
     "metadata": {},
     "output_type": "execute_result"
    }
   ],
   "source": [
    "path = root_path + '1_drone/visual_tactile/'\n",
    "metrics(path)"
   ]
  },
  {
   "cell_type": "markdown",
   "metadata": {},
   "source": [
    "## Errors during landing"
   ]
  },
  {
   "cell_type": "code",
   "execution_count": 349,
   "metadata": {},
   "outputs": [
    {
     "name": "stdout",
     "output_type": "stream",
     "text": [
      "\n"
     ]
    }
   ],
   "source": [
    "def err_during_land(PATH, cf_file, vizualize=0):\n",
    "    cf  = pd.read_csv(PATH + '_slash_vicon_slash_'+cf_name+'_slash_'+cf_name+'.csv')\n",
    "    lp1 = pd.read_csv(PATH + '_slash_vicon_slash_lp1_slash_lp1.csv')\n",
    "    lp2 = pd.read_csv(PATH + '_slash_vicon_slash_lp2_slash_lp2.csv')\n",
    "    lp3 = pd.read_csv(PATH + '_slash_vicon_slash_lp3_slash_lp3.csv')\n",
    "    lp4 = pd.read_csv(PATH + '_slash_vicon_slash_lp4_slash_lp4.csv')\n",
    "    \n",
    "    if 'lp1' in PATH: lp = lp1\n",
    "    if 'lp2' in PATH: lp = lp2\n",
    "    if 'lp3' in PATH: lp = lp3\n",
    "    if 'lp4' in PATH: lp = lp4\n",
    "        \n",
    "    length = min(len(lp.x), len(cf.x))\n",
    "    err = np.mean( np.sqrt( np.array(lp.x[:length] - cf.x[:length])**2 + np.array(lp.y[:length] - cf.y[:length])**2 ) )\n",
    "#     mean(norm(lp - cf))\n",
    "    \n",
    "    if vizualize:\n",
    "        plt.figure()\n",
    "        plt.plot(cf.x, cf.y, label='drone')\n",
    "        plt.plot(lp.x, lp.y, label='lp')\n",
    "        plt.legend()\n",
    "        \n",
    "    return err"
   ]
  },
  {
   "cell_type": "markdown",
   "metadata": {},
   "source": [
    "### Visual feedback"
   ]
  },
  {
   "cell_type": "code",
   "execution_count": 351,
   "metadata": {},
   "outputs": [
    {
     "name": "stdout",
     "output_type": "stream",
     "text": [
      "3.26 cm,  1.22 cm,  6.0 cm \n"
     ]
    }
   ],
   "source": [
    "path = root_path + '1_drone/visual/'\n",
    "follow_errs = []\n",
    "for cf_name in cf_names:\n",
    "    for folder_name in os.listdir(path):\n",
    "        try:\n",
    "            err = err_during_land(path+folder_name+'/', cf_name, vizualize=0)\n",
    "            follow_errs.append( err )\n",
    "        except:\n",
    "            # print 'no crazyflie data in folder'\n",
    "            pass\n",
    "print round(100*np.mean(follow_errs),2), 'cm, ', round(100*np.std(follow_errs),2), 'cm, ', round(100*np.max(follow_errs),2), 'cm '"
   ]
  },
  {
   "cell_type": "markdown",
   "metadata": {},
   "source": [
    "### Tactile feedback"
   ]
  },
  {
   "cell_type": "code",
   "execution_count": 352,
   "metadata": {},
   "outputs": [
    {
     "name": "stdout",
     "output_type": "stream",
     "text": [
      "3.6 cm,  1.33 cm,  6.11 cm \n"
     ]
    }
   ],
   "source": [
    "path = root_path + '1_drone/tactile/'\n",
    "follow_errs = []\n",
    "for cf_name in cf_names:\n",
    "    for folder_name in os.listdir(path):\n",
    "        try:\n",
    "            err = err_during_land(path+folder_name+'/', cf_name, vizualize=0)\n",
    "            if not np.isnan(err): follow_errs.append( err )\n",
    "        except:\n",
    "            # print 'no crazyflie data in folder'\n",
    "            pass\n",
    "print round(100*np.mean(follow_errs),2), 'cm, ', round(100*np.std(follow_errs),2), 'cm, ', round(100*np.max(follow_errs),2), 'cm '"
   ]
  },
  {
   "cell_type": "markdown",
   "metadata": {},
   "source": [
    "### Visual + Tactile feedback"
   ]
  },
  {
   "cell_type": "code",
   "execution_count": 353,
   "metadata": {},
   "outputs": [
    {
     "name": "stdout",
     "output_type": "stream",
     "text": [
      "2.46 cm,  0.88 cm,  4.75 cm \n"
     ]
    }
   ],
   "source": [
    "path = root_path + '1_drone/visual_tactile/'\n",
    "follow_errs = []\n",
    "for cf_name in cf_names:\n",
    "    for folder_name in os.listdir(path):\n",
    "        try:\n",
    "            err = err_during_land(path+folder_name+'/', cf_name, vizualize=0)\n",
    "            if not np.isnan(err): follow_errs.append( err )\n",
    "        except:\n",
    "            # print 'no crazyflie data in folder'\n",
    "            pass\n",
    "print round(100*np.mean(follow_errs),2), 'cm, ', round(100*np.std(follow_errs),2), 'cm, ', round(100*np.max(follow_errs),2), 'cm '"
   ]
  },
  {
   "cell_type": "markdown",
   "metadata": {},
   "source": [
    "# Four Drones experiment"
   ]
  },
  {
   "cell_type": "code",
   "execution_count": 266,
   "metadata": {},
   "outputs": [],
   "source": [
    "def err_after_land(PATH, vizualize=0):\n",
    "    cf  = pd.read_csv(PATH + '_slash_vicon_slash_'+cf_name+'_slash_'+cf_name+'.csv')\n",
    "    lp  = pd.read_csv(PATH + '_slash_vicon_slash_'+lp_name+'_slash_'+lp_name+'.csv')\n",
    "    \n",
    "    land_point = np.array([cf.x[len(cf.x)-1], cf.y[len(cf.y)-1]])\n",
    "    lp_last    = np.array([lp.x[len(lp.x)-1], lp.y[len(lp.y)-1]])\n",
    "    err = np.linalg.norm(land_point - lp_last)\n",
    "    \n",
    "    if vizualize:\n",
    "        plt.figure()\n",
    "        plt.plot(cf.x, cf.y, label='drone')\n",
    "        plt.plot(lp.x, lp.y, label='lp')\n",
    "        plt.plot( cf.x[len(cf.x)-1], cf.y[len(cf.y)-1], 'ro', markersize=10, label='landing point')\n",
    "        plt.plot(lp_last[0], lp_last[1], '*')\n",
    "        plt.title(cf_name+' '+lp_name)\n",
    "        plt.legend()\n",
    "    return err"
   ]
  },
  {
   "cell_type": "code",
   "execution_count": 340,
   "metadata": {},
   "outputs": [],
   "source": [
    "def err_during_land(PATH, vizualize=0):\n",
    "    cf  = pd.read_csv(PATH + '_slash_vicon_slash_'+cf_name+'_slash_'+cf_name+'.csv')\n",
    "    lp  = pd.read_csv(PATH + '_slash_vicon_slash_'+lp_name+'_slash_'+lp_name+'.csv')\n",
    "\n",
    "    length = min(len(lp.x), len(cf.x))\n",
    "    err = np.mean( np.sqrt( np.array(lp.x[:length] - cf.x[:length])**2 + np.array(lp.y[:length] - cf.y[:length])**2 ))\n",
    "    \n",
    "    if vizualize:\n",
    "        plt.figure()\n",
    "        plt.plot(cf.x, cf.y, label='drone')\n",
    "        plt.plot(lp.x, lp.y, label='lp')\n",
    "        plt.legend()\n",
    "    return err"
   ]
  },
  {
   "cell_type": "markdown",
   "metadata": {},
   "source": [
    "## Error after landing"
   ]
  },
  {
   "cell_type": "markdown",
   "metadata": {},
   "source": [
    "### Visual feedback"
   ]
  },
  {
   "cell_type": "code",
   "execution_count": 341,
   "metadata": {},
   "outputs": [
    {
     "name": "stdout",
     "output_type": "stream",
     "text": [
      "2.26 cm,  1.34 cm,  5.56 cm \n"
     ]
    }
   ],
   "source": [
    "path = root_path + '4_drones/visual/'\n",
    "land_errors = []\n",
    "for folder_name in os.listdir(path):\n",
    "    cf_name = folder_name[:3]\n",
    "    lp_name = folder_name[4:7]\n",
    "    land_errors.append( err_after_land(path+folder_name+'/', vizualize=0) )\n",
    "print round(100*np.mean(land_errors),2), 'cm, ', round(100*np.std(land_errors),2), 'cm, ', round(100*np.max(land_errors),2), 'cm '"
   ]
  },
  {
   "cell_type": "markdown",
   "metadata": {},
   "source": [
    "### Tactile feedback"
   ]
  },
  {
   "cell_type": "code",
   "execution_count": 342,
   "metadata": {},
   "outputs": [
    {
     "name": "stdout",
     "output_type": "stream",
     "text": [
      "3.72 cm,  2.46 cm,  10.8 cm \n"
     ]
    }
   ],
   "source": [
    "path = root_path + '4_drones/tactile/'\n",
    "land_errors = []\n",
    "for folder_name in os.listdir(path):\n",
    "    cf_name = folder_name[:3]\n",
    "    lp_name = folder_name[4:7]\n",
    "    land_errors.append( err_after_land(path+folder_name+'/', vizualize=0) )\n",
    "print round(100*np.mean(land_errors),2), 'cm, ', round(100*np.std(land_errors),2), 'cm, ', round(100*np.max(land_errors),2), 'cm '"
   ]
  },
  {
   "cell_type": "markdown",
   "metadata": {},
   "source": [
    "### Visual + Tactile feedback"
   ]
  },
  {
   "cell_type": "code",
   "execution_count": 343,
   "metadata": {},
   "outputs": [
    {
     "name": "stdout",
     "output_type": "stream",
     "text": [
      "2.31 cm,  1.89 cm,  6.7 cm \n"
     ]
    }
   ],
   "source": [
    "path = root_path + '4_drones/visual_tactile/'\n",
    "land_errors = []\n",
    "for folder_name in os.listdir(path):\n",
    "    cf_name = folder_name[:3]\n",
    "    lp_name = folder_name[4:7]\n",
    "    land_errors.append( err_after_land(path+folder_name+'/', vizualize=0) )\n",
    "print round(100*np.mean(land_errors),2), 'cm, ', round(100*np.std(land_errors),2), 'cm, ', round(100*np.max(land_errors),2), 'cm '"
   ]
  },
  {
   "cell_type": "markdown",
   "metadata": {},
   "source": [
    "## Error during landing"
   ]
  },
  {
   "cell_type": "markdown",
   "metadata": {},
   "source": [
    "### Visual feedback"
   ]
  },
  {
   "cell_type": "code",
   "execution_count": 344,
   "metadata": {},
   "outputs": [
    {
     "name": "stdout",
     "output_type": "stream",
     "text": [
      "3.81 cm,  1.57 cm,  7.8 cm \n"
     ]
    }
   ],
   "source": [
    "path = root_path + '4_drones/visual/'\n",
    "\n",
    "during_land_errors = []\n",
    "for folder_name in os.listdir(path):\n",
    "    cf_name = folder_name[:3]\n",
    "    lp_name = folder_name[4:7]\n",
    "    during_land_errors.append( err_during_land(path+folder_name+'/', vizualize=0) )\n",
    "print round(100*np.mean(during_land_errors),2), 'cm, ', round(100*np.std(during_land_errors),2), 'cm, ', round(100*np.max(during_land_errors),2), 'cm '"
   ]
  },
  {
   "cell_type": "markdown",
   "metadata": {},
   "source": [
    "### Tactile feedback"
   ]
  },
  {
   "cell_type": "code",
   "execution_count": 345,
   "metadata": {},
   "outputs": [
    {
     "name": "stdout",
     "output_type": "stream",
     "text": [
      "4.8 cm,  3.56 cm,  17.47 cm \n"
     ]
    }
   ],
   "source": [
    "path = root_path + '4_drones/tactile/'\n",
    "\n",
    "during_land_errors = []\n",
    "for folder_name in os.listdir(path):\n",
    "    cf_name = folder_name[:3]\n",
    "    lp_name = folder_name[4:7]\n",
    "    during_land_errors.append( err_during_land(path+folder_name+'/', vizualize=0) )\n",
    "print round(100*np.mean(during_land_errors),2), 'cm, ', round(100*np.std(during_land_errors),2), 'cm, ', round(100*np.max(during_land_errors),2), 'cm '"
   ]
  },
  {
   "cell_type": "markdown",
   "metadata": {},
   "source": [
    "### Visual + Tactile feedback"
   ]
  },
  {
   "cell_type": "code",
   "execution_count": 346,
   "metadata": {},
   "outputs": [
    {
     "name": "stdout",
     "output_type": "stream",
     "text": [
      "3.29 cm,  1.07 cm,  5.65 cm \n"
     ]
    }
   ],
   "source": [
    "path = root_path + '4_drones/visual_tactile/'\n",
    "\n",
    "during_land_errors = []\n",
    "for folder_name in os.listdir(path):\n",
    "    cf_name = folder_name[:3]\n",
    "    lp_name = folder_name[4:7]\n",
    "    during_land_errors.append( err_during_land(path+folder_name+'/', vizualize=0) )\n",
    "print round(100*np.mean(during_land_errors),2), 'cm, ', round(100*np.std(during_land_errors),2), 'cm, ', round(100*np.max(during_land_errors),2), 'cm '"
   ]
  }
 ],
 "metadata": {
  "kernelspec": {
   "display_name": "Python 2",
   "language": "python",
   "name": "python2"
  },
  "language_info": {
   "codemirror_mode": {
    "name": "ipython",
    "version": 2
   },
   "file_extension": ".py",
   "mimetype": "text/x-python",
   "name": "python",
   "nbconvert_exporter": "python",
   "pygments_lexer": "ipython2",
   "version": "2.7.12"
  }
 },
 "nbformat": 4,
 "nbformat_minor": 2
}
